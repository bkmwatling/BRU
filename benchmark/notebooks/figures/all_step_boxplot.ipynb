{
 "cells": [
  {
   "cell_type": "code",
   "execution_count": 1,
   "id": "a9ab1de2",
   "metadata": {},
   "outputs": [],
   "source": [
    "import matplotlib\n",
    "import jsonlines\n",
    "import sys\n",
    "from pathlib import Path\n",
    "sys.path.append('../../src/')\n",
    "\n",
    "from utils import benchmark\n",
    "from utils import iterate_bru_args\n",
    "from utils import BenchmarkResult\n",
    "from utils import RegexType\n",
    "from utils import MatchingType\n",
    "\n",
    "import numpy as np\n",
    "import matplotlib.pyplot as plt"
   ]
  },
  {
   "cell_type": "code",
   "execution_count": 2,
   "id": "a8110a7e",
   "metadata": {
    "lines_to_next_cell": 1
   },
   "outputs": [],
   "source": [
    "def load_steps(filename: Path, prefix: str) -> np.array:\n",
    "    with jsonlines.open(filename) as dataset:\n",
    "        label = f\"avg_{prefix}_step\"\n",
    "        xs = [data[label] for data in dataset if data[label] is not None]\n",
    "    return np.array(xs)"
   ]
  },
  {
   "cell_type": "code",
   "execution_count": 7,
   "id": "b0f53cfc",
   "metadata": {},
   "outputs": [
    {
     "name": "stdout",
     "output_type": "stream",
     "text": [
      "all\n"
     ]
    },
    {
     "ename": "TypeError",
     "evalue": "'str' object is not callable",
     "output_type": "error",
     "traceback": [
      "\u001b[0;31m---------------------------------------------------------------------------\u001b[0m",
      "\u001b[0;31mTypeError\u001b[0m                                 Traceback (most recent call last)",
      "Cell \u001b[0;32mIn[7], line 3\u001b[0m\n\u001b[1;32m      1\u001b[0m regex_type \u001b[38;5;241m=\u001b[39m RegexType\u001b[38;5;241m.\u001b[39mALL\n\u001b[1;32m      2\u001b[0m \u001b[38;5;28mprint\u001b[39m(regex_type\u001b[38;5;241m.\u001b[39mvalue)\n\u001b[0;32m----> 3\u001b[0m matching_type \u001b[38;5;241m=\u001b[39m \u001b[43mMatchingType\u001b[49m\u001b[38;5;241;43m.\u001b[39;49m\u001b[43mFULL\u001b[49m\u001b[38;5;241;43m.\u001b[39;49m\u001b[43mvalue\u001b[49m\u001b[43m(\u001b[49m\u001b[43m)\u001b[49m\n\u001b[1;32m      5\u001b[0m data \u001b[38;5;241m=\u001b[39m {}\n\u001b[1;32m      6\u001b[0m \u001b[38;5;28;01mfor\u001b[39;00m bru_args \u001b[38;5;129;01min\u001b[39;00m iterate_bru_args():\n",
      "\u001b[0;31mTypeError\u001b[0m: 'str' object is not callable"
     ]
    }
   ],
   "source": [
    "regex_type = RegexType.ALL\n",
    "print(regex_type.value)\n",
    "matching_type = MatchingType.FULL.value()\n",
    "\n",
    "data = {}\n",
    "for bru_args in iterate_bru_args():\n",
    "    label = \"-\".join([e.value for e in bru_args.values()])\n",
    "    print(label)\n",
    "    xs = load_steps(Path(f'../data/step/{regex_type}-{matching_type}-{label}-full.jsonl'), 'positive')\n",
    "    xs += load_steps(Path(f'../data/step/{regex_type}-{matching_type}-{label}-full.jsonl'), 'negative')\n",
    "    data[label] = xs\n",
    "\n",
    "plt.boxplot(data.values(), showmeans=True)\n",
    "plt.xticks(range(len(data)), data.keys(), rotation=70)\n",
    "plt.show()\n",
    "\n",
    "# Hide outliers\n",
    "plt.boxplot(data.values(), showmeans=True, showfliers=False)\n",
    "plt.xticks(range(len(data)), data.keys(), rotation=70)\n",
    "plt.show()"
   ]
  },
  {
   "cell_type": "code",
   "execution_count": null,
   "id": "3f5cbbe3-5a04-445e-90bd-63d29ca5952e",
   "metadata": {},
   "outputs": [],
   "source": []
  }
 ],
 "metadata": {
  "jupytext": {
   "cell_metadata_filter": "-all",
   "main_language": "python",
   "notebook_metadata_filter": "-all"
  },
  "kernelspec": {
   "display_name": "Python 3 (ipykernel)",
   "language": "python",
   "name": "python3"
  },
  "language_info": {
   "codemirror_mode": {
    "name": "ipython",
    "version": 3
   },
   "file_extension": ".py",
   "mimetype": "text/x-python",
   "name": "python",
   "nbconvert_exporter": "python",
   "pygments_lexer": "ipython3",
   "version": "3.9.18"
  }
 },
 "nbformat": 4,
 "nbformat_minor": 5
}
