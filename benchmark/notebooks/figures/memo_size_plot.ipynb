{
 "cells": [
  {
   "cell_type": "code",
   "execution_count": null,
   "id": "3f9f94c9",
   "metadata": {},
   "outputs": [],
   "source": [
    "import sys\n",
    "import logging\n",
    "from pathlib import Path\n",
    "\n",
    "import numpy as np\n",
    "from matplotlib import pyplot as plt\n",
    "\n",
    "sys.path.append('../../src/')\n",
    "import utils  # noqa: E402\n",
    "from utils import load_memo_sizes_dict  # noqa: E402\n",
    "from utils import load_all_eliminateds_dict  # noqa: E402"
   ]
  },
  {
   "cell_type": "code",
   "execution_count": null,
   "id": "3ae31950",
   "metadata": {},
   "outputs": [],
   "source": [
    "logging.basicConfig(level=logging.DEBUG, stream=sys.stdout)"
   ]
  },
  {
   "cell_type": "code",
   "execution_count": null,
   "id": "3442df87",
   "metadata": {},
   "outputs": [],
   "source": [
    "data_dir = Path('../../data')"
   ]
  },
  {
   "cell_type": "code",
   "execution_count": null,
   "id": "b05ecb9f",
   "metadata": {},
   "outputs": [],
   "source": [
    "memo_sizes = load_memo_sizes_dict(data_dir)"
   ]
  },
  {
   "cell_type": "code",
   "execution_count": null,
   "id": "2b0a437a",
   "metadata": {},
   "outputs": [],
   "source": [
    "eliminateds = load_all_eliminateds_dict(data_dir)"
   ]
  },
  {
   "cell_type": "code",
   "execution_count": null,
   "id": "d5ee1b66",
   "metadata": {
    "lines_to_next_cell": 2
   },
   "outputs": [],
   "source": [
    "xs = memo_sizes['full']['thompson']['none']['positive']\n",
    "ys = memo_sizes['full']['flat']['none']['positive']\n",
    "zs = eliminateds['none']\n",
    "\n",
    "print(xs.shape, ys.shape, zs.shape)"
   ]
  },
  {
   "cell_type": "code",
   "execution_count": null,
   "id": "80eddbc5",
   "metadata": {},
   "outputs": [],
   "source": [
    "# Range excluding outliers\n",
    "total = xs + ys\n",
    "quartile_1 = np.quantile(total, 0.25)\n",
    "quartile_3 = np.quantile(total, 0.75)\n",
    "iqr = quartile_3 - quartile_1\n",
    "maximum = np.max(total, where=xs <= quartile_3 + 1.5 * iqr, initial=-np.inf)\n",
    "minimum = np.min(total, where=xs >= quartile_1 - 1.5 * iqr, initial=np.inf)"
   ]
  },
  {
   "cell_type": "code",
   "execution_count": null,
   "id": "e5a5f721",
   "metadata": {},
   "outputs": [],
   "source": [
    "# Atan Histogram\n",
    "normalized_theta = (np.arctan2(xs, ys) - np.pi/4) / (np.pi/4)\n",
    "plt.hist(normalized_theta, bins=100, range=[-1, 1])\n",
    "plt.xscale('symlog')\n",
    "plt.yscale('log')\n",
    "plt.show()"
   ]
  },
  {
   "cell_type": "code",
   "execution_count": null,
   "id": "82d900d7",
   "metadata": {},
   "outputs": [],
   "source": [
    "# Scatter plot\n",
    "plt.scatter(xs, ys)\n",
    "plt.xscale('log')\n",
    "plt.yscale('log')\n",
    "plt.axis('square')\n",
    "plt.show()"
   ]
  },
  {
   "cell_type": "code",
   "execution_count": null,
   "id": "6285ce3a",
   "metadata": {},
   "outputs": [],
   "source": [
    "# Histogram 2D\n",
    "x_space = np.geomspace(1, max(xs), 100)\n",
    "y_space = np.geomspace(1, max(ys), 100)\n",
    "h = plt.hist2d(xs, ys, bins=(x_space, y_space), norm='log')\n",
    "plt.colorbar(h[3])\n",
    "plt.xscale('log')\n",
    "plt.yscale('log')\n",
    "plt.axis('square')\n",
    "plt.show()"
   ]
  },
  {
   "cell_type": "code",
   "execution_count": null,
   "id": "a40c4426",
   "metadata": {},
   "outputs": [],
   "source": [
    "# Histogram (excluding outliers)\n",
    "plt.hist([xs, ys], range=(minimum, maximum), log=True, bins=10)\n",
    "plt.show()"
   ]
  },
  {
   "cell_type": "code",
   "execution_count": null,
   "id": "fe3dd3b5",
   "metadata": {},
   "outputs": [],
   "source": [
    "# Difference of histogram (excluding outliers)\n",
    "plt1, bin1, _ = plt.hist(xs, range=(minimum, maximum), log=True, bins=100)\n",
    "plt2, bin2, _ = plt.hist(ys, range=(minimum, maximum), log=True, bins=100)\n",
    "plt.clf()\n",
    "plt.bar(bin1[:-1], width=np.diff(bin1), height=plt2 - plt1, align='edge')\n",
    "plt.show()"
   ]
  }
 ],
 "metadata": {
  "kernelspec": {
   "display_name": "Python 3 (ipykernel)",
   "language": "python",
   "name": "python3"
  },
  "language_info": {
   "codemirror_mode": {
    "name": "ipython",
    "version": 3
   },
   "file_extension": ".py",
   "mimetype": "text/x-python",
   "name": "python",
   "nbconvert_exporter": "python",
   "pygments_lexer": "ipython3",
   "version": "3.9.18"
  }
 },
 "nbformat": 4,
 "nbformat_minor": 5
}
