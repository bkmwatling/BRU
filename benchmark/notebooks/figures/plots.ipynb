{
 "cells": [
  {
   "cell_type": "code",
   "execution_count": 79,
   "id": "e902ba69",
   "metadata": {},
   "outputs": [],
   "source": [
    "import sys\n",
    "import importlib\n",
    "from itertools import product\n",
    "from pathlib import Path\n",
    "\n",
    "import jsonlines  # type: ignore\n",
    "import numpy as np  # type: ignore\n",
    "import matplotlib  # type: ignore\n",
    "import matplotlib.pyplot as plt  # type: ignore\n",
    "from tqdm import tqdm  # type: ignore\n",
    "\n",
    "sys.path.append('../../src/')\n",
    "\n",
    "from utils import SchedulerOption  # type: ignore # noqa: E402\n",
    "from utils import MemoSchemeOption  # type: ignore # noqa: E402\n",
    "from utils import ConstructionOption  # type: ignore # noqa: E402\n",
    "from utils import MatchingType  # type: ignore # noqa: E402"
   ]
  },
  {
   "cell_type": "code",
   "execution_count": 2,
   "id": "831003f7",
   "metadata": {},
   "outputs": [],
   "source": [
    "matching_types = [e.value for e in MatchingType]\n",
    "constructions = [e.value for e in ConstructionOption]\n",
    "scheduler_memo_schemes = [\n",
    "    (SchedulerOption.SPENCER.value, MemoSchemeOption.NONE.value),\n",
    "    (SchedulerOption.SPENCER.value, MemoSchemeOption.CLOSURE_NODE.value),\n",
    "    (SchedulerOption.SPENCER.value, MemoSchemeOption.IN_DEGREE.value),\n",
    "    (SchedulerOption.LOCKSTEP.value, MemoSchemeOption.NONE.value)\n",
    "]\n",
    "input_types = ['positive', 'negative']"
   ]
  },
  {
   "cell_type": "code",
   "execution_count": 3,
   "id": "e90deb1f",
   "metadata": {
    "lines_to_next_cell": 2
   },
   "outputs": [
    {
     "name": "stdout",
     "output_type": "stream",
     "text": [
      "Loading ../../data/benchmark_results/all-full-thompson-spencer-none.jsonl\n"
     ]
    },
    {
     "name": "stderr",
     "output_type": "stream",
     "text": [
      "440101it [00:29, 15167.19it/s]\n"
     ]
    },
    {
     "name": "stdout",
     "output_type": "stream",
     "text": [
      "Loading ../../data/benchmark_results/all-full-thompson-spencer-cn.jsonl\n"
     ]
    },
    {
     "name": "stderr",
     "output_type": "stream",
     "text": [
      "440101it [00:29, 14972.46it/s]\n"
     ]
    },
    {
     "name": "stdout",
     "output_type": "stream",
     "text": [
      "Loading ../../data/benchmark_results/all-full-thompson-spencer-in.jsonl\n"
     ]
    },
    {
     "name": "stderr",
     "output_type": "stream",
     "text": [
      "440101it [00:29, 14684.33it/s]\n"
     ]
    },
    {
     "name": "stdout",
     "output_type": "stream",
     "text": [
      "Loading ../../data/benchmark_results/all-full-thompson-lockstep-none.jsonl\n"
     ]
    },
    {
     "name": "stderr",
     "output_type": "stream",
     "text": [
      "440101it [00:26, 16560.07it/s]\n"
     ]
    },
    {
     "name": "stdout",
     "output_type": "stream",
     "text": [
      "Loading ../../data/benchmark_results/all-full-flat-spencer-none.jsonl\n"
     ]
    },
    {
     "name": "stderr",
     "output_type": "stream",
     "text": [
      "440101it [00:29, 15001.34it/s]\n"
     ]
    },
    {
     "name": "stdout",
     "output_type": "stream",
     "text": [
      "Loading ../../data/benchmark_results/all-full-flat-spencer-cn.jsonl\n"
     ]
    },
    {
     "name": "stderr",
     "output_type": "stream",
     "text": [
      "440101it [00:32, 13361.87it/s]\n"
     ]
    },
    {
     "name": "stdout",
     "output_type": "stream",
     "text": [
      "Loading ../../data/benchmark_results/all-full-flat-spencer-in.jsonl\n"
     ]
    },
    {
     "name": "stderr",
     "output_type": "stream",
     "text": [
      "440101it [00:34, 12683.34it/s]\n"
     ]
    },
    {
     "name": "stdout",
     "output_type": "stream",
     "text": [
      "Loading ../../data/benchmark_results/all-full-flat-lockstep-none.jsonl\n"
     ]
    },
    {
     "name": "stderr",
     "output_type": "stream",
     "text": [
      "440101it [00:20, 21089.29it/s]\n"
     ]
    },
    {
     "name": "stdout",
     "output_type": "stream",
     "text": [
      "Loading ../../data/benchmark_results/all-partial-thompson-spencer-none.jsonl\n"
     ]
    },
    {
     "name": "stderr",
     "output_type": "stream",
     "text": [
      "440101it [00:36, 12198.05it/s]\n"
     ]
    },
    {
     "name": "stdout",
     "output_type": "stream",
     "text": [
      "Loading ../../data/benchmark_results/all-partial-thompson-spencer-cn.jsonl\n"
     ]
    },
    {
     "name": "stderr",
     "output_type": "stream",
     "text": [
      "440101it [00:20, 21746.36it/s]\n"
     ]
    },
    {
     "name": "stdout",
     "output_type": "stream",
     "text": [
      "Loading ../../data/benchmark_results/all-partial-thompson-spencer-in.jsonl\n"
     ]
    },
    {
     "name": "stderr",
     "output_type": "stream",
     "text": [
      "440101it [00:42, 10351.30it/s]\n"
     ]
    },
    {
     "name": "stdout",
     "output_type": "stream",
     "text": [
      "Loading ../../data/benchmark_results/all-partial-thompson-lockstep-none.jsonl\n"
     ]
    },
    {
     "name": "stderr",
     "output_type": "stream",
     "text": [
      "440101it [00:20, 21422.55it/s]\n"
     ]
    },
    {
     "name": "stdout",
     "output_type": "stream",
     "text": [
      "Loading ../../data/benchmark_results/all-partial-flat-spencer-none.jsonl\n"
     ]
    },
    {
     "name": "stderr",
     "output_type": "stream",
     "text": [
      "440101it [00:20, 21672.95it/s]\n"
     ]
    },
    {
     "name": "stdout",
     "output_type": "stream",
     "text": [
      "Loading ../../data/benchmark_results/all-partial-flat-spencer-cn.jsonl\n"
     ]
    },
    {
     "name": "stderr",
     "output_type": "stream",
     "text": [
      "440101it [00:47, 9235.73it/s] \n"
     ]
    },
    {
     "name": "stdout",
     "output_type": "stream",
     "text": [
      "Loading ../../data/benchmark_results/all-partial-flat-spencer-in.jsonl\n"
     ]
    },
    {
     "name": "stderr",
     "output_type": "stream",
     "text": [
      "440101it [00:20, 21286.97it/s]\n"
     ]
    },
    {
     "name": "stdout",
     "output_type": "stream",
     "text": [
      "Loading ../../data/benchmark_results/all-partial-flat-lockstep-none.jsonl\n"
     ]
    },
    {
     "name": "stderr",
     "output_type": "stream",
     "text": [
      "440101it [00:18, 23726.64it/s]\n"
     ]
    }
   ],
   "source": [
    "DatasetDict = dict[str, dict[str, dict[str, dict[str, list[dict]]]]]\n",
    "datasets: DatasetDict = {}\n",
    "data_dir = Path('../../data/')\n",
    "it = product(matching_types, constructions, scheduler_memo_schemes)\n",
    "for matching_type, construction, (scheduler, memo_sheme) in it:\n",
    "    filename = (\n",
    "        f'all-{matching_type}-{construction}-{scheduler}-{memo_sheme}.jsonl')\n",
    "    filepath = data_dir / 'benchmark_results' / filename\n",
    "    print(\"Loading\", filepath)\n",
    "    dataset = [e for e in tqdm(jsonlines.open(filepath))]\n",
    "    (\n",
    "        datasets\n",
    "        .setdefault(matching_type, {})\n",
    "        .setdefault(construction, {})\n",
    "        .setdefault(scheduler, {})\n",
    "        .setdefault(memo_sheme, dataset)\n",
    "    )"
   ]
  },
  {
   "cell_type": "code",
   "execution_count": 4,
   "id": "099050ae",
   "metadata": {},
   "outputs": [],
   "source": [
    "# Eliminated\n",
    "_eliminated = []\n",
    "with jsonlines.open(data_dir / 'statistics' / 'all-flat-none.jsonl') as reader:\n",
    "    for data in reader:\n",
    "        statistics = data['statistics']\n",
    "        if statistics is None:\n",
    "            _eliminated.append(0)\n",
    "            continue\n",
    "        _eliminated.append(statistics['eliminated'])\n",
    "eliminated = np.array(_eliminated)"
   ]
  },
  {
   "cell_type": "code",
   "execution_count": 5,
   "id": "17f76fd1-d02b-461f-9f73-a239ce1ed0b0",
   "metadata": {},
   "outputs": [],
   "source": [
    "eliminated_mask = eliminated > 0"
   ]
  },
  {
   "cell_type": "code",
   "execution_count": 65,
   "id": "b01c7275-f59e-4b20-b187-a1585e078350",
   "metadata": {},
   "outputs": [
    {
     "name": "stdout",
     "output_type": "stream",
     "text": [
      "{'pattern': '', 'positive_inputs': ['', '', '', '', '', '', '', '', '', ''], 'negative_inputs': ['Z', '+', 'U', 'P', 's', 'O', 'c', 'P', 'Q', 'v'], 'input_lengths': [1, 1, 1, 1, 1, 1, 1, 1, 1, 1], 'positive_benchmark_results': [{'step': 0, 'memo_entry': 0, 'state': 0, 'eliminated': 0, 'memoised': 0, 'thread': 1}, {'step': 0, 'memo_entry': 0, 'state': 0, 'eliminated': 0, 'memoised': 0, 'thread': 1}, {'step': 0, 'memo_entry': 0, 'state': 0, 'eliminated': 0, 'memoised': 0, 'thread': 1}, {'step': 0, 'memo_entry': 0, 'state': 0, 'eliminated': 0, 'memoised': 0, 'thread': 1}, {'step': 0, 'memo_entry': 0, 'state': 0, 'eliminated': 0, 'memoised': 0, 'thread': 1}, {'step': 0, 'memo_entry': 0, 'state': 0, 'eliminated': 0, 'memoised': 0, 'thread': 1}, {'step': 0, 'memo_entry': 0, 'state': 0, 'eliminated': 0, 'memoised': 0, 'thread': 1}, {'step': 0, 'memo_entry': 0, 'state': 0, 'eliminated': 0, 'memoised': 0, 'thread': 1}, {'step': 0, 'memo_entry': 0, 'state': 0, 'eliminated': 0, 'memoised': 0, 'thread': 1}, {'step': 0, 'memo_entry': 0, 'state': 0, 'eliminated': 0, 'memoised': 0, 'thread': 1}], 'avg_positive_benchmark_results': {'step': 0, 'memo_entry': 0, 'state': 0, 'eliminated': 0, 'memoised': 0, 'thread': 1}, 'negative_benchmark_results': [{'step': 0, 'memo_entry': 0, 'state': 0, 'eliminated': 0, 'memoised': 0, 'thread': 1}, {'step': 0, 'memo_entry': 0, 'state': 0, 'eliminated': 0, 'memoised': 0, 'thread': 1}, {'step': 0, 'memo_entry': 0, 'state': 0, 'eliminated': 0, 'memoised': 0, 'thread': 1}, {'step': 0, 'memo_entry': 0, 'state': 0, 'eliminated': 0, 'memoised': 0, 'thread': 1}, {'step': 0, 'memo_entry': 0, 'state': 0, 'eliminated': 0, 'memoised': 0, 'thread': 1}, {'step': 0, 'memo_entry': 0, 'state': 0, 'eliminated': 0, 'memoised': 0, 'thread': 1}, {'step': 0, 'memo_entry': 0, 'state': 0, 'eliminated': 0, 'memoised': 0, 'thread': 1}, {'step': 0, 'memo_entry': 0, 'state': 0, 'eliminated': 0, 'memoised': 0, 'thread': 1}, {'step': 0, 'memo_entry': 0, 'state': 0, 'eliminated': 0, 'memoised': 0, 'thread': 1}, {'step': 0, 'memo_entry': 0, 'state': 0, 'eliminated': 0, 'memoised': 0, 'thread': 1}], 'avg_negative_benchmark_results': {'step': 0, 'memo_entry': 0, 'state': 0, 'eliminated': 0, 'memoised': 0, 'thread': 1}}\n"
     ]
    }
   ],
   "source": [
    "dataset = datasets['full']['flat']['spencer']['none']\n",
    "patterns = [e['pattern'] for e in dataset]\n",
    "print(dataset[0])"
   ]
  },
  {
   "cell_type": "code",
   "execution_count": 7,
   "id": "5ed13c0e-2938-4ec2-a769-e823ef812be7",
   "metadata": {},
   "outputs": [],
   "source": [
    "counter_targets_path = (\n",
    "    '../../repeated_nullability/counters/all_regexes/PARSE_SUCCESS.jsonl')\n",
    "counter_targets = [e[\"pattern\"] for e in jsonlines.open(counter_targets_path)]"
   ]
  },
  {
   "cell_type": "code",
   "execution_count": 8,
   "id": "e99a3d39-0962-43e3-beef-a1c4a5cfad07",
   "metadata": {},
   "outputs": [],
   "source": [
    "star_targets_path = (\n",
    "    '../../repeated_nullability/stars/all_regexes/PARSE_SUCCESS.jsonl')\n",
    "star_targets = [e[\"pattern\"] for e in jsonlines.open(star_targets_path)]"
   ]
  },
  {
   "cell_type": "code",
   "execution_count": 9,
   "id": "0532bbcc-38b6-4664-8c58-c47a4d590e3f",
   "metadata": {},
   "outputs": [],
   "source": [
    "targets = {'star': star_targets, 'counter': counter_targets}"
   ]
  },
  {
   "cell_type": "code",
   "execution_count": 19,
   "id": "b3ac58aa",
   "metadata": {},
   "outputs": [],
   "source": [
    "def get_mask(patterns: list[str], targets: list[str]) -> np.array:\n",
    "    indices = np.zeros(len(patterns), dtype=bool)\n",
    "    D = {k: v for v, k in enumerate(patterns)}\n",
    "    filtered = set(patterns) & set(targets)\n",
    "    for k in filtered:\n",
    "        indices[D[k]] = True\n",
    "    return indices"
   ]
  },
  {
   "cell_type": "code",
   "execution_count": 20,
   "id": "724b248c-9a52-4a9c-93c8-42f9ed5a34ac",
   "metadata": {},
   "outputs": [],
   "source": [
    "star_mask = get_mask(patterns, targets['star'])"
   ]
  },
  {
   "cell_type": "code",
   "execution_count": 21,
   "id": "2ec6c359-699c-47d9-a774-b3f1ace40b5c",
   "metadata": {},
   "outputs": [],
   "source": [
    "counter_mask = get_mask(patterns, targets['counter'])"
   ]
  },
  {
   "cell_type": "code",
   "execution_count": 28,
   "id": "e0e3f58b-35e2-4602-aebe-d8acb5f6ee27",
   "metadata": {},
   "outputs": [],
   "source": [
    "dataset = datasets['full']['flat']['spencer']['none']\n",
    "_result_mask = []\n",
    "for data in dataset:\n",
    "    positive_results = data['positive_benchmark_results']\n",
    "    negative_results = data['negative_benchmark_results']\n",
    "    invalid = positive_results is None and negative_results is None\n",
    "    _result_mask.append(not invalid)\n",
    "result_mask = np.array(_result_mask)"
   ]
  },
  {
   "cell_type": "code",
   "execution_count": 64,
   "id": "a1dc7fd3",
   "metadata": {},
   "outputs": [],
   "source": [
    "def get_average_values_from_dataset(dataset: list[dict], key: str) -> np.array:\n",
    "    average_values = []\n",
    "    for data in tqdm(dataset):\n",
    "        positive_results = data['positive_benchmark_results']\n",
    "        negative_results = data['negative_benchmark_results']\n",
    "        values: list[int] = []\n",
    "        for results in [positive_results, negative_results]:\n",
    "            if results is not None:\n",
    "                values += [\n",
    "                    result[key]\n",
    "                    for result in results\n",
    "                    if result is not None\n",
    "                ]\n",
    "        average_value = np.mean(values) if len(values) > 0 else 0\n",
    "        average_values.append(average_value)\n",
    "    return np.array(average_values)"
   ]
  },
  {
   "cell_type": "code",
   "execution_count": 68,
   "id": "5d06a3df-f8bd-40f9-b13b-6539a7f37591",
   "metadata": {},
   "outputs": [],
   "source": [
    "def get_average_input_lengths_from_dataset(dataset: list[dict]) -> np.array:\n",
    "    average_lengths = []\n",
    "    for data in tqdm(dataset):\n",
    "        positive_inputs = data['positive_inputs']\n",
    "        negative_inputs = data['negative_inputs']\n",
    "        positive_results = data['positive_benchmark_results']\n",
    "        negative_results = data['negative_benchmark_results']\n",
    "        lengths: list[int] = []\n",
    "        for inputs, results in [\n",
    "            (positive_inputs, positive_results),\n",
    "            (negative_inputs, negative_results)\n",
    "        ]:\n",
    "            if results is not None:\n",
    "                lengths += [\n",
    "                    len(string)\n",
    "                    for string, result\n",
    "                    in zip(inputs, results)\n",
    "                    if result is not None\n",
    "                ]\n",
    "        average_length = np.mean(lengths) if len(lengths) > 0 else -1\n",
    "        average_lengths.append(average_length)\n",
    "    return np.array(average_lengths)"
   ]
  },
  {
   "cell_type": "code",
   "execution_count": 88,
   "id": "0089f97d-596c-41f6-b774-c223d14614bf",
   "metadata": {},
   "outputs": [
    {
     "name": "stderr",
     "output_type": "stream",
     "text": [
      "100%|███████████████████████████████████████████████████████████████████████████████████████████████████████████████████████████████████████████████████████████████████████████████████████████████████████████████| 440101/440101 [00:06<00:00, 73307.29it/s]\n",
      "100%|███████████████████████████████████████████████████████████████████████████████████████████████████████████████████████████████████████████████████████████████████████████████████████████████████████████████| 440101/440101 [00:06<00:00, 72634.52it/s]\n",
      "100%|███████████████████████████████████████████████████████████████████████████████████████████████████████████████████████████████████████████████████████████████████████████████████████████████████████████████| 440101/440101 [00:06<00:00, 72806.57it/s]\n",
      "100%|███████████████████████████████████████████████████████████████████████████████████████████████████████████████████████████████████████████████████████████████████████████████████████████████████████████████| 440101/440101 [00:06<00:00, 72933.65it/s]\n",
      "100%|███████████████████████████████████████████████████████████████████████████████████████████████████████████████████████████████████████████████████████████████████████████████████████████████████████████████| 440101/440101 [00:06<00:00, 73292.48it/s]\n",
      "100%|███████████████████████████████████████████████████████████████████████████████████████████████████████████████████████████████████████████████████████████████████████████████████████████████████████████████| 440101/440101 [00:06<00:00, 73090.16it/s]\n",
      "100%|███████████████████████████████████████████████████████████████████████████████████████████████████████████████████████████████████████████████████████████████████████████████████████████████████████████████| 440101/440101 [00:06<00:00, 73123.20it/s]\n",
      "100%|███████████████████████████████████████████████████████████████████████████████████████████████████████████████████████████████████████████████████████████████████████████████████████████████████████████████| 440101/440101 [00:05<00:00, 76116.76it/s]\n",
      "100%|███████████████████████████████████████████████████████████████████████████████████████████████████████████████████████████████████████████████████████████████████████████████████████████████████████████████| 440101/440101 [00:06<00:00, 72367.24it/s]\n",
      "100%|███████████████████████████████████████████████████████████████████████████████████████████████████████████████████████████████████████████████████████████████████████████████████████████████████████████████| 440101/440101 [00:05<00:00, 78508.50it/s]\n",
      "100%|███████████████████████████████████████████████████████████████████████████████████████████████████████████████████████████████████████████████████████████████████████████████████████████████████████████████| 440101/440101 [00:05<00:00, 77989.58it/s]\n",
      "100%|███████████████████████████████████████████████████████████████████████████████████████████████████████████████████████████████████████████████████████████████████████████████████████████████████████████████| 440101/440101 [00:05<00:00, 80379.16it/s]\n",
      "100%|███████████████████████████████████████████████████████████████████████████████████████████████████████████████████████████████████████████████████████████████████████████████████████████████████████████████| 440101/440101 [00:05<00:00, 86036.17it/s]\n",
      "100%|███████████████████████████████████████████████████████████████████████████████████████████████████████████████████████████████████████████████████████████████████████████████████████████████████████████████| 440101/440101 [00:06<00:00, 72306.79it/s]\n",
      "100%|███████████████████████████████████████████████████████████████████████████████████████████████████████████████████████████████████████████████████████████████████████████████████████████████████████████████| 440101/440101 [00:06<00:00, 69461.36it/s]\n",
      "100%|███████████████████████████████████████████████████████████████████████████████████████████████████████████████████████████████████████████████████████████████████████████████████████████████████████████████| 440101/440101 [00:06<00:00, 69824.66it/s]\n"
     ]
    }
   ],
   "source": [
    "# Steps\n",
    "steps_dict: dict = {}\n",
    "for matching_type, construction, (scheduler, memo_sheme) in product(\n",
    "    matching_types, constructions, scheduler_memo_schemes\n",
    "):\n",
    "    dataset = datasets[matching_type][construction][scheduler][memo_sheme]\n",
    "    average_steps = get_average_values_from_dataset(dataset, 'step')\n",
    "    (\n",
    "        steps_dict\n",
    "        .setdefault(matching_type, {})\n",
    "        .setdefault(construction, {})\n",
    "        .setdefault(scheduler, {})\n",
    "        .setdefault(memo_sheme, average_steps)\n",
    "    )"
   ]
  },
  {
   "cell_type": "code",
   "execution_count": 89,
   "id": "6b36aae2-0222-4cac-bd2d-9e629faebc97",
   "metadata": {},
   "outputs": [
    {
     "name": "stderr",
     "output_type": "stream",
     "text": [
      "100%|███████████████████████████████████████████████████████████████████████████████████████████████████████████████████████████████████████████████████████████████████████████████████████████████████████████████| 440101/440101 [00:05<00:00, 75077.52it/s]\n",
      "100%|███████████████████████████████████████████████████████████████████████████████████████████████████████████████████████████████████████████████████████████████████████████████████████████████████████████████| 440101/440101 [00:05<00:00, 76807.75it/s]\n",
      "100%|███████████████████████████████████████████████████████████████████████████████████████████████████████████████████████████████████████████████████████████████████████████████████████████████████████████████| 440101/440101 [00:05<00:00, 78666.93it/s]\n",
      "100%|███████████████████████████████████████████████████████████████████████████████████████████████████████████████████████████████████████████████████████████████████████████████████████████████████████████████| 440101/440101 [00:05<00:00, 78351.06it/s]\n",
      "100%|███████████████████████████████████████████████████████████████████████████████████████████████████████████████████████████████████████████████████████████████████████████████████████████████████████████████| 440101/440101 [00:05<00:00, 78758.77it/s]\n",
      "100%|███████████████████████████████████████████████████████████████████████████████████████████████████████████████████████████████████████████████████████████████████████████████████████████████████████████████| 440101/440101 [00:05<00:00, 80532.16it/s]\n",
      "100%|███████████████████████████████████████████████████████████████████████████████████████████████████████████████████████████████████████████████████████████████████████████████████████████████████████████████| 440101/440101 [00:05<00:00, 78228.57it/s]\n",
      "100%|███████████████████████████████████████████████████████████████████████████████████████████████████████████████████████████████████████████████████████████████████████████████████████████████████████████████| 440101/440101 [00:05<00:00, 81197.57it/s]\n",
      "100%|███████████████████████████████████████████████████████████████████████████████████████████████████████████████████████████████████████████████████████████████████████████████████████████████████████████████| 440101/440101 [00:05<00:00, 80647.12it/s]\n",
      "100%|███████████████████████████████████████████████████████████████████████████████████████████████████████████████████████████████████████████████████████████████████████████████████████████████████████████████| 440101/440101 [00:05<00:00, 84292.28it/s]\n",
      "100%|███████████████████████████████████████████████████████████████████████████████████████████████████████████████████████████████████████████████████████████████████████████████████████████████████████████████| 440101/440101 [00:05<00:00, 76250.91it/s]\n",
      "100%|███████████████████████████████████████████████████████████████████████████████████████████████████████████████████████████████████████████████████████████████████████████████████████████████████████████████| 440101/440101 [00:05<00:00, 77497.38it/s]\n",
      "100%|███████████████████████████████████████████████████████████████████████████████████████████████████████████████████████████████████████████████████████████████████████████████████████████████████████████████| 440101/440101 [00:05<00:00, 77353.71it/s]\n",
      "100%|███████████████████████████████████████████████████████████████████████████████████████████████████████████████████████████████████████████████████████████████████████████████████████████████████████████████| 440101/440101 [00:05<00:00, 79071.58it/s]\n",
      "100%|███████████████████████████████████████████████████████████████████████████████████████████████████████████████████████████████████████████████████████████████████████████████████████████████████████████████| 440101/440101 [00:05<00:00, 80099.66it/s]\n",
      "100%|███████████████████████████████████████████████████████████████████████████████████████████████████████████████████████████████████████████████████████████████████████████████████████████████████████████████| 440101/440101 [00:05<00:00, 78427.28it/s]\n"
     ]
    }
   ],
   "source": [
    "# States\n",
    "states_dict: dict = {}\n",
    "for matching_type, construction, (scheduler, memo_sheme) in product(\n",
    "    matching_types, constructions, scheduler_memo_schemes\n",
    "):\n",
    "    dataset = datasets[matching_type][construction][scheduler][memo_sheme]\n",
    "    average_states = get_average_values_from_dataset(dataset, 'state')\n",
    "    (\n",
    "        states_dict\n",
    "        .setdefault(matching_type, {})\n",
    "        .setdefault(construction, {})\n",
    "        .setdefault(scheduler, {})\n",
    "        .setdefault(memo_sheme, average_states)\n",
    "    )"
   ]
  },
  {
   "cell_type": "code",
   "execution_count": 69,
   "id": "c58aaf64",
   "metadata": {},
   "outputs": [
    {
     "name": "stderr",
     "output_type": "stream",
     "text": [
      "100%|███████████████████████████████████████████████████████████████████████████████████████████████████████████████████████████████████████████████████████████████████████████████████████████████████████████████| 440101/440101 [00:05<00:00, 79083.02it/s]\n",
      "100%|███████████████████████████████████████████████████████████████████████████████████████████████████████████████████████████████████████████████████████████████████████████████████████████████████████████████| 440101/440101 [00:05<00:00, 79650.97it/s]\n"
     ]
    }
   ],
   "source": [
    "dataset = datasets['full']['flat']['spencer']['none']\n",
    "input_length = get_average_input_lengths_from_dataset(dataset)\n",
    "pattern_length = get_average_input_lengths_from_dataset(dataset)"
   ]
  },
  {
   "cell_type": "code",
   "execution_count": 91,
   "id": "c4bb5f19",
   "metadata": {},
   "outputs": [],
   "source": [
    "prefix_to_data = {\n",
    "    'step': steps_dict,\n",
    "    'state': states_dict,\n",
    "}"
   ]
  },
  {
   "cell_type": "code",
   "execution_count": 104,
   "id": "4df8d307",
   "metadata": {},
   "outputs": [],
   "source": [
    "def draw_plot(dry_run: bool) -> None:\n",
    "    if dry_run:\n",
    "        plt.show()\n",
    "        return\n",
    "\n",
    "    rcParams = matplotlib.rcParams\n",
    "    matplotlib.use(\"pgf\")\n",
    "    matplotlib.rcParams.update({\n",
    "        \"font.family\": \"serif\",\n",
    "        \"font.size\": 11,\n",
    "        \"pgf.rcfonts\": False,\n",
    "        \"pgf.texsystem\": \"pdflatex\",\n",
    "        \"text.usetex\": True,\n",
    "    })\n",
    "    plt.close()\n",
    "\n",
    "    plt.savefig(filepath.with_suffix('.pdf'), bbox_inches='tight')\n",
    "    plt.savefig(filepath.with_suffix('.pgf'), bbox_inches='tight')\n",
    "    matplotlib.rcParams.update(rcParams)"
   ]
  },
  {
   "cell_type": "code",
   "execution_count": 202,
   "id": "fa68d2c3",
   "metadata": {},
   "outputs": [],
   "source": [
    "%matplotlib inline\n",
    "dry_run = True"
   ]
  },
  {
   "cell_type": "code",
   "execution_count": 200,
   "id": "532aefa8",
   "metadata": {},
   "outputs": [],
   "source": [
    "dry_run = False"
   ]
  },
  {
   "cell_type": "code",
   "execution_count": null,
   "id": "9c57502e",
   "metadata": {
    "lines_to_next_cell": 2
   },
   "outputs": [],
   "source": [
    "xs = pattern_length\n",
    "ys = input_length\n",
    "\n",
    "max_x = np.mean(xs) + np.std(xs)\n",
    "min_x = max(np.mean(xs) - np.std(xs), 0)\n",
    "\n",
    "max_y = np.mean(ys) + np.std(ys)\n",
    "min_y = max(np.mean(ys) - np.std(ys), 0)\n",
    "\n",
    "xlim = (min(min_x, min_y), max(max_x, max_y))\n",
    "\n",
    "xspace = np.linspace(xlim[0], xlim[1], 50)\n",
    "yspace = np.linspace(xlim[0], xlim[1], 50)\n",
    "\n",
    "bins = (xspace, yspace)\n",
    "print(np.sum(xs > xlim[1]))\n",
    "print(np.sum(ys > xlim[1]))\n",
    "\n",
    "plt.hist(xs, xspace, histtype='stepfilled', alpha=0.5)\n",
    "plt.hist(ys, yspace, histtype='stepfilled', alpha=0.5)\n",
    "\n",
    "plt.legend(['Pattern', 'Input'])\n",
    "plt.xlabel('Length')\n",
    "plt.xscale('symlog')\n",
    "plt.show()\n",
    "filepath = Path('./outputs') / 'input' / 'hist'\n",
    "if dry_run:\n",
    "    plt.show()\n",
    "else:\n",
    "    filepath.parent.mkdir(parents=True, exist_ok=True)\n",
    "    print(filepath)\n",
    "    plt.savefig(filepath.with_suffix('.pdf'), bbox_inches='tight')\n",
    "    plt.savefig(filepath.with_suffix('.pgf'), bbox_inches='tight')"
   ]
  },
  {
   "cell_type": "code",
   "execution_count": 169,
   "id": "b74629b9-c9fe-4ee5-bee4-029689c5a9ec",
   "metadata": {},
   "outputs": [
    {
     "name": "stdout",
     "output_type": "stream",
     "text": [
      "step_full_spencer_none\n",
      "1228; 0.27914102759359066%\n",
      "48.74274985545172%\n",
      "step_full_spencer_cn\n",
      "492; 0.11183826186974478%\n",
      "95.23071055869742%\n",
      "step_full_spencer_in\n",
      "0; 0.0%\n",
      "step_full_lockstep_none\n",
      "0; 0.0%\n",
      "state_full_spencer_none\n",
      "439632; 99.93430638682854%\n",
      "41.46938104359192%\n",
      "state_full_spencer_cn\n",
      "439632; 99.93430638682854%\n",
      "41.50996034015115%\n",
      "state_full_spencer_in\n",
      "439632; 99.93430638682854%\n",
      "41.55338725563093%\n",
      "state_full_lockstep_none\n",
      "439632; 99.93430638682854%\n",
      "31.407345796153162%\n"
     ]
    }
   ],
   "source": [
    "prefixes = ['step', 'state']\n",
    "xlabel = \"Thompson\"\n",
    "ylabel = \"Glushkov\"\n",
    "for prefix in prefixes:\n",
    "    data = prefix_to_data[prefix]\n",
    "    for option in product(['full'], scheduler_memo_schemes):\n",
    "        matching_type, (scheduler, memo_scheme) = option\n",
    "\n",
    "        mask = result_mask & star_mask\n",
    "        if prefix == 'step':\n",
    "            mask &= eliminated_mask\n",
    "        total = np.sum(result_mask)\n",
    "        xs = data[matching_type]['thompson'][scheduler][memo_scheme][mask]\n",
    "        ys = data[matching_type]['flat'][scheduler][memo_scheme][mask]\n",
    "\n",
    "        filename = \"_\".join(\n",
    "            [prefix, matching_type, scheduler, memo_scheme])\n",
    "        print(filename)\n",
    "        decreased_mask = xs > ys\n",
    "        print(f\"{np.sum(decreased_mask)}; {np.sum(decreased_mask) / total * 100}%\")\n",
    "        if np.sum(decreased_mask) > 0:\n",
    "            print(f\"{np.mean(ys[decreased_mask] / xs[decreased_mask]) * 100}%\")"
   ]
  },
  {
   "cell_type": "code",
   "execution_count": 190,
   "id": "2861cabd",
   "metadata": {},
   "outputs": [
    {
     "name": "stdout",
     "output_type": "stream",
     "text": [
      "outputs/step/step_full_spencer_none\n",
      "1228\n",
      "0\n"
     ]
    },
    {
     "data": {
      "image/png": "[encoded data removed]",
      "text/plain": [
       "<Figure size 200x200 with 2 Axes>"
      ]
     },
     "metadata": {},
     "output_type": "display_data"
    },
    {
     "name": "stdout",
     "output_type": "stream",
     "text": [
      "outputs/step/step_full_spencer_cn\n",
      "492\n",
      "0\n"
     ]
    },
    {
     "data": {
      "image/png": "[encoded data removed]",
      "text/plain": [
       "<Figure size 200x200 with 2 Axes>"
      ]
     },
     "metadata": {},
     "output_type": "display_data"
    },
    {
     "name": "stdout",
     "output_type": "stream",
     "text": [
      "outputs/step/step_full_spencer_in\n",
      "0\n",
      "0\n"
     ]
    },
    {
     "data": {
      "image/png": "[encoded data removed]",
      "text/plain": [
       "<Figure size 200x200 with 2 Axes>"
      ]
     },
     "metadata": {},
     "output_type": "display_data"
    },
    {
     "name": "stdout",
     "output_type": "stream",
     "text": [
      "outputs/step/step_full_lockstep_none\n",
      "0\n",
      "0\n"
     ]
    },
    {
     "data": {
      "image/png": "[encoded data removed]",
      "text/plain": [
       "<Figure size 200x200 with 2 Axes>"
      ]
     },
     "metadata": {},
     "output_type": "display_data"
    },
    {
     "name": "stdout",
     "output_type": "stream",
     "text": [
      "outputs/step/step_partial_spencer_none\n",
      "1170\n",
      "0\n"
     ]
    },
    {
     "data": {
      "image/png": "[encoded data removed]",
      "text/plain": [
       "<Figure size 200x200 with 2 Axes>"
      ]
     },
     "metadata": {},
     "output_type": "display_data"
    },
    {
     "name": "stdout",
     "output_type": "stream",
     "text": [
      "outputs/step/step_partial_spencer_cn\n",
      "453\n",
      "0\n"
     ]
    },
    {
     "data": {
      "image/png": "[encoded data removed]",
      "text/plain": [
       "<Figure size 200x200 with 2 Axes>"
      ]
     },
     "metadata": {},
     "output_type": "display_data"
    },
    {
     "name": "stdout",
     "output_type": "stream",
     "text": [
      "outputs/step/step_partial_spencer_in\n",
      "0\n",
      "0\n"
     ]
    },
    {
     "data": {
      "image/png": "[encoded data removed]",
      "text/plain": [
       "<Figure size 200x200 with 2 Axes>"
      ]
     },
     "metadata": {},
     "output_type": "display_data"
    },
    {
     "name": "stdout",
     "output_type": "stream",
     "text": [
      "outputs/step/step_partial_lockstep_none\n",
      "0\n",
      "0\n"
     ]
    },
    {
     "data": {
      "image/png": "[encoded data removed]",
      "text/plain": [
       "<Figure size 200x200 with 2 Axes>"
      ]
     },
     "metadata": {},
     "output_type": "display_data"
    },
    {
     "name": "stdout",
     "output_type": "stream",
     "text": [
      "outputs/state/state_full_spencer_none\n",
      "439632\n",
      "0\n"
     ]
    },
    {
     "data": {
      "image/png": "[encoded data removed]",
      "text/plain": [
       "<Figure size 200x200 with 2 Axes>"
      ]
     },
     "metadata": {},
     "output_type": "display_data"
    },
    {
     "name": "stdout",
     "output_type": "stream",
     "text": [
      "outputs/state/state_full_spencer_cn\n",
      "439632\n",
      "0\n"
     ]
    },
    {
     "data": {
      "image/png": "[encoded data removed]",
      "text/plain": [
       "<Figure size 200x200 with 2 Axes>"
      ]
     },
     "metadata": {},
     "output_type": "display_data"
    },
    {
     "name": "stdout",
     "output_type": "stream",
     "text": [
      "outputs/state/state_full_spencer_in\n",
      "439632\n",
      "0\n"
     ]
    },
    {
     "data": {
      "image/png": "[encoded data removed]",
      "text/plain": [
       "<Figure size 200x200 with 2 Axes>"
      ]
     },
     "metadata": {},
     "output_type": "display_data"
    },
    {
     "name": "stdout",
     "output_type": "stream",
     "text": [
      "outputs/state/state_full_lockstep_none\n",
      "439632\n",
      "0\n"
     ]
    },
    {
     "data": {
      "image/png": "[encoded data removed]",
      "text/plain": [
       "<Figure size 200x200 with 2 Axes>"
      ]
     },
     "metadata": {},
     "output_type": "display_data"
    },
    {
     "name": "stdout",
     "output_type": "stream",
     "text": [
      "outputs/state/state_partial_spencer_none\n",
      "330858\n",
      "0\n"
     ]
    },
    {
     "data": {
      "image/png": "[encoded data removed]",
      "text/plain": [
       "<Figure size 200x200 with 2 Axes>"
      ]
     },
     "metadata": {},
     "output_type": "display_data"
    },
    {
     "name": "stdout",
     "output_type": "stream",
     "text": [
      "outputs/state/state_partial_spencer_cn\n",
      "330858\n",
      "0\n"
     ]
    },
    {
     "data": {
      "image/png": "[encoded data removed]",
      "text/plain": [
       "<Figure size 200x200 with 2 Axes>"
      ]
     },
     "metadata": {},
     "output_type": "display_data"
    },
    {
     "name": "stdout",
     "output_type": "stream",
     "text": [
      "outputs/state/state_partial_spencer_in\n",
      "330858\n",
      "0\n"
     ]
    },
    {
     "data": {
      "image/png": "[encoded data removed]",
      "text/plain": [
       "<Figure size 200x200 with 2 Axes>"
      ]
     },
     "metadata": {},
     "output_type": "display_data"
    },
    {
     "name": "stdout",
     "output_type": "stream",
     "text": [
      "outputs/state/state_partial_lockstep_none\n",
      "330857\n",
      "1\n"
     ]
    },
    {
     "data": {
      "image/png": "[encoded data removed]",
      "text/plain": [
       "<Figure size 200x200 with 2 Axes>"
      ]
     },
     "metadata": {},
     "output_type": "display_data"
    }
   ],
   "source": [
    "prefixes = ['step', 'state']\n",
    "xlabel = \"Thompson\"\n",
    "ylabel = \"Glushkov\"\n",
    "for prefix in prefixes:\n",
    "    output_dir = Path(f'./outputs/{prefix}/')\n",
    "    data = prefix_to_data[prefix]\n",
    "    for option in product(matching_types, scheduler_memo_schemes):\n",
    "        matching_type, (scheduler, memo_scheme) = option\n",
    "\n",
    "        mask = result_mask & star_mask\n",
    "        if prefix == 'step':\n",
    "            mask &= eliminated_mask\n",
    "        xs = data[matching_type]['thompson'][scheduler][memo_scheme][mask]\n",
    "        ys = data[matching_type]['flat'][scheduler][memo_scheme][mask]\n",
    "\n",
    "        space = np.geomspace(1, max(xs+ys), 50)\n",
    "        bins = (space, space)\n",
    "\n",
    "        filename = \"_\".join(\n",
    "            [prefix, matching_type, scheduler, memo_scheme])\n",
    "        filepath = output_dir / filename\n",
    "\n",
    "        fig, axes = plt.subplots(1, 1, figsize=(2, 2))\n",
    "        axes.axline((0, 0), slope=1, alpha=0.3, color='black', linewidth=0.2)\n",
    "\n",
    "        h, _, _, cmap = axes.hist2d(xs, ys, bins=bins, norm='log')\n",
    "        axes.set_xscale('symlog')\n",
    "        axes.set_yscale('symlog')\n",
    "        axes.set_xlabel(xlabel)\n",
    "        axes.set_ylabel(ylabel)\n",
    "        axes.axis('square')\n",
    "\n",
    "        pos = axes.get_position()\n",
    "        cbar_ax = fig.add_axes([pos.x1 + 0.01, pos.y0, 0.02, pos.y1 - pos.y0])\n",
    "        fig.colorbar(cmap, cax=cbar_ax)\n",
    "        \n",
    "        print(filepath)\n",
    "        print(np.sum(xs > ys))\n",
    "        print(np.sum(xs < ys))\n",
    "        \n",
    "        if dry_run:\n",
    "            plt.show()\n",
    "        else:\n",
    "            filepath.parent.mkdir(parents=True, exist_ok=True)\n",
    "            plt.savefig(filepath.with_suffix('.pdf'), bbox_inches='tight')\n",
    "            plt.savefig(filepath.with_suffix('.pgf'), bbox_inches='tight')"
   ]
  },
  {
   "cell_type": "code",
   "execution_count": 182,
   "id": "9917d385-d0ec-428f-b2ad-2408d28fc23a",
   "metadata": {},
   "outputs": [
    {
     "name": "stdout",
     "output_type": "stream",
     "text": [
      "step_full_thompson\n",
      "92.4798118456633%\n",
      "step_full_flat\n",
      "92.4798118456633%\n",
      "state_full_thompson\n",
      "71.12658684470729%\n",
      "state_full_flat\n",
      "92.23840278527564%\n"
     ]
    }
   ],
   "source": [
    "prefixes = ['step', 'state']\n",
    "xlabel = \"Thompson\"\n",
    "ylabel = \"Glushkov\"\n",
    "for prefix in prefixes:\n",
    "    data = prefix_to_data[prefix]\n",
    "    for matching_type, construction in product(['all'], constructions):\n",
    "        matching_type, (scheduler, memo_scheme) = option\n",
    "\n",
    "        mask = result_mask & star_mask\n",
    "        xs = data[matching_type][construction]['lockstep']['none'][mask]\n",
    "        ys = data[matching_type][construction]['spencer']['in'][mask]\n",
    "\n",
    "        filename = \"_\".join([prefix, matching_type, construction])\n",
    "        print(filename)\n",
    "        print(f\"{np.mean((ys+1) / (xs+1)) * 100}%\")"
   ]
  },
  {
   "cell_type": "code",
   "execution_count": 204,
   "id": "921ca0c7-44b8-4930-b7dd-9640e349bd9a",
   "metadata": {},
   "outputs": [
    {
     "name": "stdout",
     "output_type": "stream",
     "text": [
      "223915\n",
      "0\n",
      "\n",
      "outputs/step-another/step_full_thompson\n"
     ]
    },
    {
     "data": {
      "image/png": "[encoded data removed]",
      "text/plain": [
       "<Figure size 200x200 with 2 Axes>"
      ]
     },
     "metadata": {},
     "output_type": "display_data"
    },
    {
     "name": "stdout",
     "output_type": "stream",
     "text": [
      "223916\n",
      "0\n",
      "\n",
      "outputs/step-another/step_full_flat\n"
     ]
    },
    {
     "data": {
      "image/png": "[encoded data removed]",
      "text/plain": [
       "<Figure size 200x200 with 2 Axes>"
      ]
     },
     "metadata": {},
     "output_type": "display_data"
    },
    {
     "name": "stdout",
     "output_type": "stream",
     "text": [
      "439319\n",
      "1\n",
      "^I should be alerted that my credentials are invalid$\n",
      "outputs/state-another/state_full_thompson\n"
     ]
    },
    {
     "data": {
      "image/png": "[encoded data removed]",
      "text/plain": [
       "<Figure size 200x200 with 2 Axes>"
      ]
     },
     "metadata": {},
     "output_type": "display_data"
    },
    {
     "name": "stdout",
     "output_type": "stream",
     "text": [
      "224690\n",
      "172\n",
      "^.{2,10}:.*,.*-.*°.*;.*$\n",
      "outputs/state-another/state_full_flat\n"
     ]
    },
    {
     "data": {
      "image/png": "[encoded data removed]",
      "text/plain": [
       "<Figure size 200x200 with 2 Axes>"
      ]
     },
     "metadata": {},
     "output_type": "display_data"
    }
   ],
   "source": [
    "prefixes = ['step', 'state']\n",
    "xlabel = \"Lockstep\"\n",
    "ylabel = \"IN-Memoisation\"\n",
    "for prefix in prefixes:\n",
    "    output_dir = Path(f'./outputs/{prefix}-another/')\n",
    "    data = prefix_to_data[prefix]\n",
    "    for matching_type, construction in product(['full'], constructions):\n",
    "        mask = result_mask\n",
    "        xs = data[matching_type][construction]['lockstep']['none'][mask]\n",
    "        ys = data[matching_type][construction]['spencer']['in'][mask]\n",
    "\n",
    "        space = np.geomspace(1, 10 ** (5.3), 50)\n",
    "        bins = (space, space)\n",
    "\n",
    "        filename = \"_\".join([prefix, matching_type, construction])\n",
    "        filepath = output_dir / filename\n",
    "\n",
    "        fig, axes = plt.subplots(1, 1, figsize=(2, 2))\n",
    "        axes.axline((0, 0), slope=1, alpha=0.3, color='black', linewidth=0.2)\n",
    "\n",
    "        h, _, _, cmap = axes.hist2d(xs, ys, bins=bins, norm='log')\n",
    "        axes.set_xscale('symlog')\n",
    "        axes.set_yscale('symlog')\n",
    "        axes.set_xlabel(xlabel)\n",
    "        axes.set_ylabel(ylabel)\n",
    "        axes.axis('square')\n",
    "\n",
    "        pos = axes.get_position()\n",
    "        cbar_ax = fig.add_axes([pos.x1 + 0.01, pos.y0, 0.02, pos.y1 - pos.y0])\n",
    "        fig.colorbar(cmap, cax=cbar_ax)\n",
    "        \n",
    "        print(np.sum(xs > ys))\n",
    "        print(np.sum(xs < ys))\n",
    "        print(filepath)\n",
    "        \n",
    "        if dry_run:\n",
    "            plt.show()\n",
    "        else:\n",
    "            filepath.parent.mkdir(parents=True, exist_ok=True)\n",
    "            plt.savefig(filepath.with_suffix('.pdf'), bbox_inches='tight')\n",
    "            plt.savefig(filepath.with_suffix('.pgf'), bbox_inches='tight')"
   ]
  },
  {
   "cell_type": "code",
   "execution_count": null,
   "id": "ec73c9f9-aefe-41b4-9c16-0f0148d62d28",
   "metadata": {},
   "outputs": [
    {
     "name": "stdin",
     "output_type": "stream",
     "text": [
      " \n"
     ]
    },
    {
     "name": "stdout",
     "output_type": "stream",
     "text": [
      "^\\s*(\\w+)\\s*=\\s*['\"]?([^'\"]+)['\"]?\\s*$\n",
      " '9z3Bx\f",
      "\"\t\t\n",
      "{'step': 54, 'memo_entry': 44, 'state': 66, 'eliminated': 8, 'memoised': 0, 'thread': 31}\n"
     ]
    },
    {
     "name": "stdin",
     "output_type": "stream",
     "text": [
      " \n"
     ]
    },
    {
     "name": "stdout",
     "output_type": "stream",
     "text": [
      "desc\\[\\\"english\\\"\\]\\s*\\=\\s*string\\s*\\(\\s*\\\"\\s*([^\\)]*)\\\"\\s*\\)\\s*\\;\n",
      "desc[\"english\"]\t\n",
      "\n",
      " \u000b",
      " \t\n",
      "=string   \u000b",
      "  (\n",
      "; \f",
      "\"\f",
      "\n",
      "{'step': 103, 'memo_entry': 83, 'state': 107, 'eliminated': 15, 'memoised': 0, 'thread': 35}\n"
     ]
    },
    {
     "name": "stdin",
     "output_type": "stream",
     "text": [
      " \n"
     ]
    },
    {
     "name": "stdout",
     "output_type": "stream",
     "text": [
      "(konqueror)\\/((\\d+)?[\\w\\.]+)\n",
      "konqueror/1710814399\n",
      "{'step': 23, 'memo_entry': 13, 'state': 24, 'eliminated': 2, 'memoised': 0, 'thread': 12}\n"
     ]
    },
    {
     "name": "stdin",
     "output_type": "stream",
     "text": [
      " \n"
     ]
    },
    {
     "name": "stdout",
     "output_type": "stream",
     "text": [
      "^(([^<>()[]\\.,;:s@\"]+(.[^<>()[]\\.,;:s@\"]+)*)|(\".+\"))@(([[0-9]{1,3}.[0-9]{1,3}.[0-9]{1,3}.[0-9]{1,3}])|(([a-zA-Z-0-9]+.)+[a-zA-Z]{2,}))$\n",
      "\"iH\f",
      "$Vy)*N\"@Rw6PLswzNL^hHCWVIy8cwVwMAug\n",
      "{'step': 113, 'memo_entry': 69, 'state': 116, 'eliminated': 11, 'memoised': 0, 'thread': 39}\n"
     ]
    },
    {
     "name": "stdin",
     "output_type": "stream",
     "text": [
      " \n"
     ]
    },
    {
     "name": "stdout",
     "output_type": "stream",
     "text": [
      "^(?:\\s+\\n+)\n",
      "\n",
      "\n",
      "\n",
      "\n",
      "\n",
      "\n",
      "\n",
      "\n",
      "{'step': 10, 'memo_entry': 10, 'state': 11, 'eliminated': 2, 'memoised': 0, 'thread': 8}\n"
     ]
    },
    {
     "name": "stdin",
     "output_type": "stream",
     "text": [
      " \n"
     ]
    },
    {
     "name": "stdout",
     "output_type": "stream",
     "text": [
      "(\\d+[.,]?\\d*)(\\+(\\d+[.,]?\\d*)){1}i\n",
      "95748,6021+30qi\n",
      "{'step': 40, 'memo_entry': 33, 'state': 50, 'eliminated': 6, 'memoised': 0, 'thread': 25}\n"
     ]
    }
   ],
   "source": [
    "xs = steps_dict['full']['flat']['spencer']['in']\n",
    "ys = states_dict['full']['flat']['spencer']['in']\n",
    "dataset = datasets['full']['flat']['spencer']['in']\n",
    "for index in np.flatnonzero(xs < ys):\n",
    "    input()\n",
    "    data = dataset[index]\n",
    "    print(data[\"pattern\"])\n",
    "    positive_inputs = data[\"positive_inputs\"]\n",
    "    negative_inputs = data[\"negative_inputs\"]\n",
    "    inputs = positive_inputs + negative_inputs\n",
    "\n",
    "    positive_results = data[\"positive_benchmark_results\"]\n",
    "    negative_results = data[\"negative_benchmark_results\"]\n",
    "    results = positive_results + negative_results\n",
    "    \n",
    "    for string, result in zip(inputs, results):\n",
    "        if result is None:\n",
    "            continue\n",
    "        if result['step'] != result['state']:\n",
    "            print(string)\n",
    "            print(result)\n",
    "            break"
   ]
  },
  {
   "cell_type": "code",
   "execution_count": null,
   "id": "18580412-87d6-4d5e-93cb-0e8e0b0daf7b",
   "metadata": {},
   "outputs": [],
   "source": []
  }
 ],
 "metadata": {
  "kernelspec": {
   "display_name": "Python 3 (ipykernel)",
   "language": "python",
   "name": "python3"
  },
  "language_info": {
   "codemirror_mode": {
    "name": "ipython",
    "version": 3
   },
   "file_extension": ".py",
   "mimetype": "text/x-python",
   "name": "python",
   "nbconvert_exporter": "python",
   "pygments_lexer": "ipython3",
   "version": "3.9.18"
  }
 },
 "nbformat": 4,
 "nbformat_minor": 5
}
