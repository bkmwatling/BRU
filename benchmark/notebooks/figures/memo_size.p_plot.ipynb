{
 "cells": [
  {
   "cell_type": "code",
   "execution_count": null,
   "id": "eeb1dd18",
   "metadata": {},
   "outputs": [],
   "source": [
    "import sys\n",
    "import logging\n",
    "import importlib\n",
    "import itertools\n",
    "from pathlib import Path\n",
    "\n",
    "import numpy as np  # type: ignore\n",
    "from matplotlib import pyplot as plt  # type: ignore\n",
    "\n",
    "sys.path.append('../../src/')\n",
    "import utils.figures  # type: ignore # noqa: E402"
   ]
  },
  {
   "cell_type": "code",
   "execution_count": null,
   "id": "ec03bbae",
   "metadata": {},
   "outputs": [],
   "source": [
    "data_dir = Path('../../data/')"
   ]
  },
  {
   "cell_type": "code",
   "execution_count": null,
   "id": "785c8361",
   "metadata": {},
   "outputs": [],
   "source": [
    "importlib.reload(utils.figures)\n",
    "from utils.figures import load_all_eliminateds_dict  # noqa: E402\n",
    "logging.basicConfig(level=logging.DEBUG, stream=sys.stdout)\n",
    "eliminateds = load_all_eliminateds_dict(data_dir)\n",
    "logging.basicConfig(level=logging.WARNING, stream=sys.stderr)"
   ]
  },
  {
   "cell_type": "code",
   "execution_count": null,
   "id": "bc29fa20",
   "metadata": {},
   "outputs": [],
   "source": [
    "importlib.reload(utils.figures)\n",
    "from utils.figures import load_memo_sizes_dict  # noqa: E402\n",
    "logging.basicConfig(level=logging.DEBUG, stream=sys.stdout)\n",
    "memo_sizes = load_memo_sizes_dict(data_dir)\n",
    "logging.basicConfig(level=logging.WARNING, stream=sys.stderr)"
   ]
  },
  {
   "cell_type": "code",
   "execution_count": null,
   "id": "2eb9edc5",
   "metadata": {},
   "outputs": [],
   "source": [
    "# Histogram 2D\n",
    "importlib.reload(plt)\n",
    "\n",
    "logging.basicConfig(level=logging.WARNING, stream=sys.stderr, force=True)\n",
    "options = itertools.product(['full', 'partial'], ['cn', 'in'])\n",
    "threshold = 0\n",
    "\n",
    "for matching_type, memo_scheme in options:\n",
    "    input_types = ['positive', 'negative']\n",
    "    xs = np.concatenate([\n",
    "        memo_sizes[matching_type]['thompson'][memo_scheme][input_type]\n",
    "        for input_type in input_types\n",
    "    ])\n",
    "    xlabel = \"-\".join([matching_type, 'thompson', memo_scheme])\n",
    "    ys = np.concatenate([\n",
    "        memo_sizes[matching_type]['flat'][memo_scheme][input_type]\n",
    "        for input_type in input_types\n",
    "    ])\n",
    "    ylabel = \"-\".join([matching_type, 'flat', memo_scheme])\n",
    "    zs = np.concatenate(\n",
    "        [eliminateds[memo_scheme][input_type] for input_type in input_types])\n",
    "    # Range excluding outliers\n",
    "    total = xs + ys\n",
    "    quartile_1 = np.quantile(total, 0.25)\n",
    "    quartile_3 = np.quantile(total, 0.75)\n",
    "    iqr = quartile_3 - quartile_1\n",
    "    maximum = np.max(\n",
    "        total, where=xs <= quartile_3 + 1.5 * iqr, initial=-np.inf)\n",
    "    minimum = np.min(total, where=xs >= quartile_1 - 1.5 * iqr, initial=np.inf)\n",
    "    x_space = np.geomspace(1, max(xs+ys), 50)\n",
    "    y_space = np.geomspace(1, max(ys+ys), 50)\n",
    "\n",
    "    fig, axes = plt.subplots(1, 2, figsize=(12, 6))\n",
    "\n",
    "    h, _, _, cmap = axes[0].hist2d(\n",
    "        xs[zs <= threshold], ys[zs <= threshold],\n",
    "        bins=(x_space, y_space), norm='log'\n",
    "    )\n",
    "    axes[0].set_xscale('symlog')\n",
    "    axes[0].set_yscale('symlog')\n",
    "    axes[0].set_xlabel(xlabel + f\" (elim. <= {threshold})\")\n",
    "    axes[0].set_ylabel(ylabel)\n",
    "    axes[0].axis('square')\n",
    "\n",
    "    vmax = np.max(h)\n",
    "\n",
    "    axes[1].hist2d(xs[zs > threshold], ys[zs > threshold], bins=(\n",
    "        x_space, y_space), norm='log', vmax=vmax)\n",
    "    axes[1].set_xscale('symlog')\n",
    "    axes[1].set_yscale('symlog')\n",
    "    axes[1].set_xlabel(xlabel + f\" (elim. > {threshold})\")\n",
    "    axes[1].axis('square')\n",
    "\n",
    "    fig.subplots_adjust(right=0.8)\n",
    "    axes[1].get_position()\n",
    "    pos = axes[1].get_position()\n",
    "    cbar_ax = fig.add_axes(\n",
    "        [pos.x1 + 0.01, pos.y0 + 0.01, 0.01, pos.y1 - pos.y0 - 0.02])\n",
    "\n",
    "    try:\n",
    "        fig.colorbar(cmap, cax=cbar_ax)\n",
    "        plt.subplots_adjust(wspace=0.3)\n",
    "        output_dir = Path('./outputs/memo_sizes')\n",
    "        output_dir.mkdir(parents=True, exist_ok=True)\n",
    "        filename = \"-\".join([matching_type, memo_scheme]) + '.pdf'\n",
    "        plt.savefig(output_dir / filename)\n",
    "        plt.show()\n",
    "    except Exception:\n",
    "        continue"
   ]
  }
 ],
 "metadata": {
  "kernelspec": {
   "display_name": "Python 3 (ipykernel)",
   "language": "python",
   "name": "python3"
  },
  "language_info": {
   "codemirror_mode": {
    "name": "ipython",
    "version": 3
   },
   "file_extension": ".py",
   "mimetype": "text/x-python",
   "name": "python",
   "nbconvert_exporter": "python",
   "pygments_lexer": "ipython3",
   "version": "3.9.18"
  }
 },
 "nbformat": 4,
 "nbformat_minor": 5
}
