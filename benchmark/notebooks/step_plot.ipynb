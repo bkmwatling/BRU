{
 "cells": [
  {
   "cell_type": "code",
   "execution_count": null,
   "id": "ec8d4e50",
   "metadata": {
    "lines_to_next_cell": 1
   },
   "outputs": [],
   "source": [
    "import matplotlib\n",
    "import jsonlines\n",
    "from pathlib import Path\n",
    "\n",
    "import numpy as np\n",
    "from matplotlib import pyplot as plt"
   ]
  },
  {
   "cell_type": "code",
   "execution_count": null,
   "id": "ca0bbe36",
   "metadata": {
    "lines_to_next_cell": 1
   },
   "outputs": [],
   "source": [
    "def load_steps(filename: Path, prefix: str) -> np.array:\n",
    "    with jsonlines.open(filename) as dataset:\n",
    "        label = f\"avg_{prefix}_step\"\n",
    "        xs = [data[label] for data in dataset if data[label] is not None]\n",
    "    return np.array(xs)"
   ]
  },
  {
   "cell_type": "code",
   "execution_count": null,
   "id": "a9f04ffb",
   "metadata": {},
   "outputs": [],
   "source": [
    "xs = load_steps(Path('../data/benchmark/steps-benchmark-all-thompson-none-spencer-full.jsonl'), 'positive')\n",
    "ys = load_steps(Path('../data/benchmark/steps-benchmark-all-glushkov-none-spencer-full.jsonl'), 'positive')"
   ]
  },
  {
   "cell_type": "code",
   "execution_count": null,
   "id": "409126cb",
   "metadata": {},
   "outputs": [],
   "source": [
    "# Range excluding outliers\n",
    "total = xs + ys\n",
    "quartile_1 = np.quantile(total, 0.25)\n",
    "quartile_3 = np.quantile(total, 0.75)\n",
    "iqr = quartile_3 - quartile_1\n",
    "maximum = np.max(total, where=xs <= quartile_3 + 1.5 * iqr, initial=-np.inf)\n",
    "minimum = np.min(total, where=xs >= quartile_1 - 1.5 * iqr, initial=np.inf)"
   ]
  },
  {
   "cell_type": "code",
   "execution_count": null,
   "id": "a28cd062",
   "metadata": {},
   "outputs": [],
   "source": [
    "# Atan Histogram\n",
    "normalized_theta = (np.arctan2(xs, ys) - np.pi/4) / (np.pi/4)\n",
    "plt.hist(normalized_theta, bins=100, range=[-1, 1])\n",
    "plt.xscale('symlog')\n",
    "plt.yscale('log')\n",
    "plt.show()"
   ]
  },
  {
   "cell_type": "code",
   "execution_count": null,
   "id": "6063c02e",
   "metadata": {},
   "outputs": [],
   "source": [
    "# Scatter plot\n",
    "plt.scatter(xs, ys)\n",
    "plt.xscale('log')\n",
    "plt.yscale('log')\n",
    "plt.axis('square')\n",
    "plt.show()"
   ]
  },
  {
   "cell_type": "code",
   "execution_count": null,
   "id": "00e3102b",
   "metadata": {},
   "outputs": [],
   "source": [
    "# Histogram 2D\n",
    "x_space = np.geomspace(1, max(xs), 100)\n",
    "y_space = np.geomspace(1, max(ys), 100)\n",
    "h = plt.hist2d(xs, ys, bins=(x_space, y_space), norm = 'log')\n",
    "plt.colorbar(h[3])\n",
    "plt.xscale('log')\n",
    "plt.yscale('log')\n",
    "plt.axis('square')\n",
    "plt.show()"
   ]
  },
  {
   "cell_type": "code",
   "execution_count": null,
   "id": "5f84615c",
   "metadata": {},
   "outputs": [],
   "source": [
    "# Histogram (excluding outliers)\n",
    "plt.hist([xs, ys], range=(minimum, maximum), log=True, bins=10)\n",
    "plt.show()"
   ]
  },
  {
   "cell_type": "code",
   "execution_count": null,
   "id": "970f4a70",
   "metadata": {},
   "outputs": [],
   "source": [
    "# Difference of histogram (excluding outliers)\n",
    "plt1, bin1, _ = plt.hist(xs, range=(minimum, maximum), log=True, bins=100)\n",
    "plt2, bin2, _ = plt.hist(ys, range=(minimum, maximum), log=True, bins=100)\n",
    "plt.clf()\n",
    "plt.bar(bin1[:-1], width = np.diff(bin1), height=plt2 - plt1, align='edge')\n",
    "plt.show()"
   ]
  }
 ],
 "metadata": {
  "kernelspec": {
   "display_name": "Python 3 (ipykernel)",
   "language": "python",
   "name": "python3"
  },
  "language_info": {
   "codemirror_mode": {
    "name": "ipython",
    "version": 3
   },
   "file_extension": ".py",
   "mimetype": "text/x-python",
   "name": "python",
   "nbconvert_exporter": "python",
   "pygments_lexer": "ipython3",
   "version": "3.9.18"
  }
 },
 "nbformat": 4,
 "nbformat_minor": 5
}
