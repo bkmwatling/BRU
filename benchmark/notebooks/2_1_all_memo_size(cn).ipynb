{
 "cells": [
  {
   "cell_type": "code",
   "execution_count": 1,
   "id": "0071cb36-7e84-4491-bc2d-bd789847c570",
   "metadata": {},
   "outputs": [],
   "source": [
    "import matplotlib\n",
    "import jsonlines\n",
    "from pathlib import Path\n",
    "\n",
    "import numpy as np\n",
    "from matplotlib import pyplot as plt"
   ]
  },
  {
   "cell_type": "code",
   "execution_count": 2,
   "id": "d76fc7d0-e4c5-4155-b9c2-18fba961af1d",
   "metadata": {},
   "outputs": [],
   "source": [
    "def load_memo_sizes(filename: Path, prefix: str) -> np.array:\n",
    "    with jsonlines.open(filename) as dataset:\n",
    "        label = f\"avg_{prefix}_memo_size\"\n",
    "        xs = [data[label] for data in dataset if data[label] is not None]\n",
    "    return np.array(xs)"
   ]
  },
  {
   "cell_type": "code",
   "execution_count": 3,
   "id": "dd1da9b8-5ada-47d5-bb28-861a9ee11d9d",
   "metadata": {},
   "outputs": [],
   "source": [
    "xs = load_memo_sizes(Path('../data/benchmark/memo_size-benchmark-all-thompson-cn-spencer-full.jsonl'), 'positive')\n",
    "ys = load_memo_sizes(Path('../data/benchmark/memo_size-benchmark-all-glushkov-cn-spencer-full.jsonl'), 'positive')"
   ]
  },
  {
   "cell_type": "code",
   "execution_count": 4,
   "id": "2a56eb96-74bc-43e0-8b61-603c309f593e",
   "metadata": {},
   "outputs": [],
   "source": [
    "# Range excluding outliers\n",
    "total = xs + ys\n",
    "quartile_1 = np.quantile(total, 0.25)\n",
    "quartile_3 = np.quantile(total, 0.75)\n",
    "iqr = quartile_3 - quartile_1\n",
    "maximum = np.max(total, where=xs <= quartile_3 + 1.5 * iqr, initial=-np.inf)\n",
    "minimum = np.min(total, where=xs >= quartile_1 - 1.5 * iqr, initial=np.inf)"
   ]
  },
  {
   "cell_type": "code",
   "execution_count": 5,
   "id": "366cd3c7-18ab-4804-8e18-49d4e0eebd5f",
   "metadata": {},
   "outputs": [
    {
     "data": {
      "image/png": "[encoded data removed]",
      "text/plain": [
       "<Figure size 640x480 with 1 Axes>"
      ]
     },
     "metadata": {},
     "output_type": "display_data"
    }
   ],
   "source": [
    "# Atan Histogram\n",
    "normalized_theta = (np.arctan2(xs, ys) - np.pi/4) / (np.pi/4)\n",
    "plt.hist(normalized_theta, bins=100, range=[-1, 1])\n",
    "plt.xscale('symlog')\n",
    "plt.yscale('log')\n",
    "plt.show()"
   ]
  },
  {
   "cell_type": "code",
   "execution_count": null,
   "id": "9bad2f02-160c-410e-b193-2ab99bb52731",
   "metadata": {},
   "outputs": [],
   "source": [
    "# Scatter plot\n",
    "plt.scatter(xs, ys)\n",
    "plt.xscale('log')\n",
    "plt.yscale('log')\n",
    "plt.axis('square')\n",
    "plt.show()"
   ]
  },
  {
   "cell_type": "code",
   "execution_count": null,
   "id": "1a998b1d-90fb-45a1-89b2-e72ec1524f24",
   "metadata": {},
   "outputs": [],
   "source": [
    "# Histogram 2D\n",
    "x_space = np.geomspace(1, max(xs), 100)\n",
    "y_space = np.geomspace(1, max(ys), 100)\n",
    "h = plt.hist2d(xs, ys, bins=(x_space, y_space), norm = 'log')\n",
    "plt.colorbar(h[3])\n",
    "plt.xscale('log')\n",
    "plt.yscale('log')\n",
    "plt.axis('square')\n",
    "plt.show()"
   ]
  },
  {
   "cell_type": "code",
   "execution_count": null,
   "id": "055e5342-9aee-4a5a-be85-19d520171390",
   "metadata": {},
   "outputs": [],
   "source": [
    "# Histogram (excluding outliers)\n",
    "plt.hist([xs, ys], range=(minimum, maximum), log=True, bins=10)\n",
    "plt.show()"
   ]
  },
  {
   "cell_type": "code",
   "execution_count": null,
   "id": "2cb8371e-8d54-46ca-9804-fce77b18ad6b",
   "metadata": {},
   "outputs": [],
   "source": [
    "# Difference of histogram (excluding outliers)\n",
    "plt1, bin1, _ = plt.hist(xs, range=(minimum, maximum), log=True, bins=100)\n",
    "plt2, bin2, _ = plt.hist(ys, range=(minimum, maximum), log=True, bins=100)\n",
    "plt.clf()\n",
    "plt.bar(bin1[:-1], width = np.diff(bin1), height=plt2 - plt1, align='edge')\n",
    "plt.show()"
   ]
  }
 ],
 "metadata": {
  "kernelspec": {
   "display_name": "Python 3 (ipykernel)",
   "language": "python",
   "name": "python3"
  },
  "language_info": {
   "codemirror_mode": {
    "name": "ipython",
    "version": 3
   },
   "file_extension": ".py",
   "mimetype": "text/x-python",
   "name": "python",
   "nbconvert_exporter": "python",
   "pygments_lexer": "ipython3",
   "version": "3.9.18"
  }
 },
 "nbformat": 4,
 "nbformat_minor": 5
}
